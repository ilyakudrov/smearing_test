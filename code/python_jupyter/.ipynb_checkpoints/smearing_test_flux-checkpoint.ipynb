{
 "cells": [
  {
   "cell_type": "code",
   "execution_count": 4,
   "metadata": {},
   "outputs": [],
   "source": [
    "import numpy as np\n",
    "import pandas as pd\n",
    "import struct\n",
    "import math\n",
    "import matplotlib.pyplot as plt\n",
    "from scipy.optimize import curve_fit\n",
    "import seaborn as sns\n",
    "sns.set_style('darkgrid')\n",
    "import sys\n",
    "import os\n",
    "import seaborn\n",
    "from  matplotlib import pyplot"
   ]
  },
  {
   "cell_type": "code",
   "execution_count": 3,
   "metadata": {},
   "outputs": [],
   "source": [
    "def plot_\n",
    "\n",
    "def plot_smearing_dependence(mu, monopole, lattice_size, T, smearing, smearing_steps, conf_type):\n",
    "    df_data = pd.read_csv(f\"../../result/flux_tube_wilson/{monopole}/{conf_type}/{lattice_size}/flux_tube_wilson_{smearing}_mu=0.{mu}.csv\", index_col=None)\n",
    "    \n",
    "#     smearing_steps = [22, 62, 102]\n",
    "    \n",
    "    df_data = df_data[df_data['T'] == T]\n",
    "    df_data = df_data[df_data['smearing_step'].isin(smearing_steps)]\n",
    "    fg = seaborn.FacetGrid(data=df_data, hue='smearing_step',  height=3.5, aspect=1.61)\n",
    "    fg.map(plt.errorbar, 'r/a', 'aV(r)', 'err', marker=\"o\", fmt='', linestyle = '').add_legend()\n",
    "    \n",
    "    image_path = f'../../images/flux_tube_wilson/qc2dstag/{lattice_size}/{smearing}'\n",
    "    try:\n",
    "        os.makedirs(image_path)\n",
    "    except:\n",
    "        pass\n",
    "    \n",
    "    if monopole == \"/\":\n",
    "        monopole = 'qc2dstag'\n",
    "    \n",
    "    image_path = f'{image_path}/flux_tube_wilson_{monopole}_mu=0p{mu}_smearing_dependence'\n",
    "    fg.savefig(image_path, dpi=400)"
   ]
  },
  {
   "cell_type": "code",
   "execution_count": 5,
   "metadata": {},
   "outputs": [
    {
     "name": "stdout",
     "output_type": "stream",
     "text": [
      "[5 6 7] [9 2 4]\n",
      "[9 2 4] [9 2 4]\n"
     ]
    }
   ],
   "source": []
  },
  {
   "cell_type": "code",
   "execution_count": null,
   "metadata": {},
   "outputs": [],
   "source": []
  }
 ],
 "metadata": {
  "kernelspec": {
   "display_name": "Python 3",
   "language": "python",
   "name": "python3"
  },
  "language_info": {
   "codemirror_mode": {
    "name": "ipython",
    "version": 3
   },
   "file_extension": ".py",
   "mimetype": "text/x-python",
   "name": "python",
   "nbconvert_exporter": "python",
   "pygments_lexer": "ipython3",
   "version": "3.8.5"
  }
 },
 "nbformat": 4,
 "nbformat_minor": 4
}
