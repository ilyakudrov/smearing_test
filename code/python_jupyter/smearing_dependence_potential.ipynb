{
 "cells": [
  {
   "cell_type": "code",
   "execution_count": 1,
   "id": "953c1e6c",
   "metadata": {},
   "outputs": [],
   "source": [
    "import numpy as np\n",
    "import pandas as pd\n",
    "import struct\n",
    "import math\n",
    "import matplotlib.pyplot as plt\n",
    "from scipy.optimize import curve_fit\n",
    "import seaborn as sns\n",
    "sns.set_style('darkgrid')\n",
    "import sys\n",
    "import os\n",
    "import seaborn\n",
    "from  matplotlib import pyplot"
   ]
  },
  {
   "cell_type": "code",
   "execution_count": 2,
   "id": "d18eef0a",
   "metadata": {},
   "outputs": [],
   "source": [
    "def plot_smearing_dependence(mu, monopole, lattice_size, T, smearing, smearing_steps, conf_type):\n",
    "    df_data = pd.read_csv(f\"../../result/potential/{monopole}/{conf_type}/{lattice_size}/potential_{monopole}_{smearing}_mu=0.{mu}.csv\", index_col=None)\n",
    "    \n",
    "#     smearing_steps = [22, 62, 102]\n",
    "    \n",
    "    df_data = df_data[df_data['T'] == T]\n",
    "    # df_data = df_data[df_data['smearing_step'].isin(smearing_steps)]\n",
    "    fg = seaborn.FacetGrid(data=df_data, hue='smearing_step',  height=3.5, aspect=1.61)\n",
    "    fg.map(plt.errorbar, 'r/a', 'aV(r)', 'err', marker=\"o\", fmt='', linestyle = '').add_legend()\n",
    "    \n",
    "    # image_path = f'../../images/potential/qc2dstag/{lattice_size}/{smearing}'\n",
    "    # try:\n",
    "    #     os.makedirs(image_path)\n",
    "    # except:\n",
    "    #     pass\n",
    "    \n",
    "    # if monopole == \"/\":\n",
    "    #     monopole = 'qc2dstag'\n",
    "    \n",
    "    # image_path = f'{image_path}/potential_{monopole}_mu=0p{mu}_smearing_dependence'\n",
    "    # fg.savefig(image_path, dpi=400)"
   ]
  },
  {
   "cell_type": "code",
   "execution_count": null,
   "id": "8e4a08e5",
   "metadata": {},
   "outputs": [],
   "source": [
    "smearing_steps = [602, 702]\n",
    "plot_smearing_dependence(\"00\", '/', \"40^4\", 8, 'HYP1_alpha=1_1_0.5_APE_alpha=0.5', smearing_steps, 'qc2dstag')"
   ]
  },
  {
   "cell_type": "code",
   "execution_count": null,
   "id": "94b721fc",
   "metadata": {},
   "outputs": [],
   "source": [
    "smearing_steps = [602, 702]\n",
    "plot_smearing_dependence(\"00\", '/', \"40^4\", 8, 'HYP1_alpha=1_1_0.5_APE_alpha=0.5', smearing_steps, 'qc2dstag')"
   ]
  },
  {
   "cell_type": "code",
   "execution_count": null,
   "id": "anonymous-blame",
   "metadata": {},
   "outputs": [],
   "source": [
    "smearing_steps = [602, 702]\n",
    "plot_smearing_dependence(\"00\", '/', \"40^4\", 8, 'HYP1_alpha=1_1_0.5_APE_alpha=0.5', smearing_steps, 'qc2dstag')"
   ]
  },
  {
   "cell_type": "code",
   "execution_count": null,
   "id": "dated-feature",
   "metadata": {},
   "outputs": [],
   "source": [
    "smearing_steps = [12, 22, 52, 62, 72]\n",
    "plot_smearing_dependence(\"00\", '/', \"40^4\", 8, 'HYP1_alpha=1_1_0.5_APE_alpha=0.55', smearing_steps, 'qc2dstag')"
   ]
  },
  {
   "cell_type": "code",
   "execution_count": null,
   "id": "successful-former",
   "metadata": {},
   "outputs": [],
   "source": [
    "smearing_steps = [12, 22, 32]\n",
    "plot_smearing_dependence(\"00\", '/', \"40^4\", 8, 'HYP1_alpha=1_1_0.5_APE_alpha=0.6', smearing_steps, 'qc2dstag')"
   ]
  },
  {
   "cell_type": "code",
   "execution_count": null,
   "id": "criminal-ocean",
   "metadata": {},
   "outputs": [],
   "source": [
    "smearing_steps = [102, 302, 402, 602, 702, 802]\n",
    "plot_smearing_dependence(\"05\", '/', \"40^4\", 8, 'HYP1_alpha=1_1_0.5_APE_alpha=0.5', smearing_steps, 'qc2dstag')"
   ]
  },
  {
   "cell_type": "code",
   "execution_count": null,
   "id": "operational-cream",
   "metadata": {},
   "outputs": [],
   "source": [
    "smearing_steps = [12, 22, 42, 62]\n",
    "plot_smearing_dependence(\"05\", '/', \"40^4\", 8, 'HYP1_alpha=1_1_0.5_APE_alpha=0.55', smearing_steps, 'qc2dstag')"
   ]
  },
  {
   "cell_type": "code",
   "execution_count": null,
   "id": "taken-plate",
   "metadata": {},
   "outputs": [],
   "source": [
    "smearing_steps = [14, 20]\n",
    "plot_smearing_dependence(\"05\", '/', \"40^4\", 8, 'HYP1_alpha=1_1_0.5_APE_alpha=0.6', smearing_steps, 'qc2dstag')"
   ]
  },
  {
   "cell_type": "code",
   "execution_count": null,
   "id": "radio-elimination",
   "metadata": {},
   "outputs": [],
   "source": [
    "smearing_steps = [103, 303, 403, 703, 803]\n",
    "plot_smearing_dependence(\"05\", '/', \"40^4\", 8, 'HYP2_alpha=1_1_0.5_APE_alpha=0.5', smearing_steps, 'qc2dstag')"
   ]
  },
  {
   "cell_type": "code",
   "execution_count": null,
   "id": "dated-arnold",
   "metadata": {},
   "outputs": [],
   "source": [
    "smearing_steps = [104, 304, 404, 704, 804]\n",
    "plot_smearing_dependence(\"05\", '/', \"40^4\", 8, 'HYP3_alpha=1_1_0.5_APE_alpha=0.5', smearing_steps, 'qc2dstag')"
   ]
  },
  {
   "cell_type": "code",
   "execution_count": null,
   "id": "increasing-lighter",
   "metadata": {},
   "outputs": [],
   "source": [
    "smearing_steps = [22, 42, 102, 122, 202, 282]\n",
    "plot_smearing_dependence(\"05\", '/', \"40^4\", 8, 'HYP1_alpha=1_1_0.5_APE_alpha=0.7', smearing_steps, 'qc2dstag')"
   ]
  },
  {
   "cell_type": "code",
   "execution_count": null,
   "id": "cloudy-butter",
   "metadata": {},
   "outputs": [],
   "source": [
    "smearing_steps = [102, 402, 702, 802]\n",
    "plot_smearing_dependence(\"35\", '/', \"40^4\", 12, 'HYP1_alpha=1_1_0.5_APE_alpha=0.5', smearing_steps, 'qc2dstag')"
   ]
  },
  {
   "cell_type": "code",
   "execution_count": null,
   "id": "tribal-campbell",
   "metadata": {},
   "outputs": [],
   "source": [
    "smearing_steps = [102, 302, 502, 602, 702, 802]\n",
    "plot_smearing_dependence(\"45\", '/', \"40^4\", 10, 'HYP1_alpha=1_1_0.5_APE_alpha=0.5', smearing_steps, 'qc2dstag')\n",
    "plot_smearing_dependence(\"45\", '/', \"40^4\", 12, 'HYP1_alpha=1_1_0.5_APE_alpha=0.5', smearing_steps, 'qc2dstag')\n",
    "plot_smearing_dependence(\"45\", '/', \"40^4\", 13, 'HYP1_alpha=1_1_0.5_APE_alpha=0.5', smearing_steps, 'qc2dstag')\n",
    "plot_smearing_dependence(\"45\", '/', \"40^4\", 16, 'HYP1_alpha=1_1_0.5_APE_alpha=0.5', smearing_steps, 'qc2dstag')"
   ]
  },
  {
   "cell_type": "code",
   "execution_count": null,
   "id": "prepared-press",
   "metadata": {},
   "outputs": [],
   "source": [
    "smearing_steps = [22, 32, 62, 67, 72]\n",
    "plot_smearing_dependence(\"45\", '/', \"40^4\", 8, 'HYP1_alpha=1_1_0.5_APE_alpha=0.55', smearing_steps, 'qc2dstag')\n",
    "plot_smearing_dependence(\"45\", '/', \"40^4\", 10, 'HYP1_alpha=1_1_0.5_APE_alpha=0.55', smearing_steps, 'qc2dstag')\n",
    "plot_smearing_dependence(\"45\", '/', \"40^4\", 12, 'HYP1_alpha=1_1_0.5_APE_alpha=0.55', smearing_steps, 'qc2dstag')\n",
    "plot_smearing_dependence(\"45\", '/', \"40^4\", 16, 'HYP1_alpha=1_1_0.5_APE_alpha=0.55', smearing_steps, 'qc2dstag')"
   ]
  },
  {
   "cell_type": "code",
   "execution_count": null,
   "id": "substantial-chicago",
   "metadata": {},
   "outputs": [],
   "source": [
    "smearing_steps = [10, 16, 22, 30, 34]\n",
    "plot_smearing_dependence(\"45\", '/', \"40^4\", 8, 'HYP1_alpha=1_1_0.5_APE_alpha=0.6', smearing_steps, 'qc2dstag')"
   ]
  },
  {
   "cell_type": "code",
   "execution_count": null,
   "id": "pleasant-washington",
   "metadata": {},
   "outputs": [],
   "source": [
    "smearing_steps = [5, 10, 15, 20, 22, 24, 26]\n",
    "plot_smearing_dependence(\"45\", '/', \"40^4\", 8, 'HYP1_alpha=1_1_0.5_APE_alpha=0.65', smearing_steps, 'qc2dstag')"
   ]
  },
  {
   "cell_type": "code",
   "execution_count": null,
   "id": "contrary-prompt",
   "metadata": {},
   "outputs": [],
   "source": [
    "smearing_steps = [102, 202, 302, 402]\n",
    "plot_smearing_dependence(\"00\", '/', \"32^4\", 8, 'HYP1_alpha=1_1_0.5_APE_alpha=0.5', smearing_steps, 'SU2_dinam')"
   ]
  },
  {
   "cell_type": "code",
   "execution_count": null,
   "id": "unexpected-court",
   "metadata": {},
   "outputs": [],
   "source": [
    "smearing_steps = [42, 62, 67, 72]\n",
    "plot_smearing_dependence(\"00\", '/', \"32^4\", 8, 'HYP1_alpha=1_1_0.5_APE_alpha=0.55', smearing_steps, 'SU2_dinam')"
   ]
  },
  {
   "cell_type": "code",
   "execution_count": null,
   "id": "expensive-oxygen",
   "metadata": {},
   "outputs": [],
   "source": [
    "smearing_steps = [26, 32, 35]\n",
    "plot_smearing_dependence(\"00\", '/', \"32^4\", 8, 'HYP1_alpha=1_1_0.5_APE_alpha=0.6', smearing_steps, 'SU2_dinam')"
   ]
  },
  {
   "cell_type": "code",
   "execution_count": null,
   "id": "bound-custom",
   "metadata": {},
   "outputs": [],
   "source": [
    "smearing_steps = [6, 8, 10, 14, 20, 26]\n",
    "plot_smearing_dependence(\"00\", '/', \"32^4\", 8, 'HYP1_alpha=1_1_0.5_APE_alpha=0.65', smearing_steps, 'SU2_dinam')"
   ]
  },
  {
   "cell_type": "code",
   "execution_count": null,
   "id": "annual-stationery",
   "metadata": {},
   "outputs": [],
   "source": [
    "smearing_steps = [4, 6, 8, 10, 12, 14, 16, 18, 20]\n",
    "plot_smearing_dependence(\"00\", '/', \"32^4\", 8, 'HYP1_alpha=1_1_0.5_APE_alpha=0.7', smearing_steps, 'SU2_dinam')"
   ]
  },
  {
   "cell_type": "code",
   "execution_count": null,
   "id": "featured-lighting",
   "metadata": {},
   "outputs": [],
   "source": [
    "smearing_steps = [21, 41, 61, 81]\n",
    "plot_smearing_dependence(\"00\", '/', \"32^4\", 8, 'HYP0_alpha=1_1_0.5_APE_alpha=0.5', smearing_steps, 'SU2_dinam')"
   ]
  },
  {
   "cell_type": "code",
   "execution_count": null,
   "id": "capital-tutorial",
   "metadata": {},
   "outputs": [],
   "source": [
    "smearing_steps = [1]\n",
    "plot_smearing_dependence(\"00\", '/', \"32^4\", 8, 'HYP0_alpha=1_1_0.5_APE_alpha=0.7', smearing_steps, 'SU2_dinam')"
   ]
  },
  {
   "cell_type": "code",
   "execution_count": null,
   "id": "sought-garage",
   "metadata": {},
   "outputs": [],
   "source": [
    "def plot_time_dependence(mu, monopole, lattice_size, smearing, smearing_step, space_sizes, T_max, conf_type):\n",
    "    df_data = pd.read_csv(f\"../../result/potential/{monopole}/{conf_type}/{lattice_size}/potential_{smearing}_mu=0.{mu}.csv\", index_col=None)\n",
    "    \n",
    "#     smearing_steps = [22, 62, 102]\n",
    "    \n",
    "    df_data = df_data[df_data['smearing_step'] == smearing_step]\n",
    "#     df_data = df_data[df_data['r/a'].isin(space_sizes)]\n",
    "    df_data = df_data[df_data['r/a'] == space_sizes]\n",
    "    df_data = df_data[df_data['T'] <= T_max]\n",
    "    fg = seaborn.FacetGrid(data=df_data, hue='r/a',  height=3.5, aspect=1.61)\n",
    "    fg.map(plt.errorbar, 'T', 'aV(r)', 'err', marker=\"o\", fmt='', linestyle = '').add_legend()\n",
    "    \n",
    "    image_path = f'../../images/potential/qc2dstag/{lattice_size}/separate/{smearing}/'\n",
    "    try:\n",
    "        os.makedirs(image_path)\n",
    "    except:\n",
    "        pass\n",
    "    \n",
    "    if monopole == \"/\":\n",
    "        monopole = 'qc2dstag'\n",
    "    \n",
    "    image_path = f'{image_path}/potential_{monopole}_mu=0p{mu}_time_dependence'\n",
    "    fg.savefig(image_path, dpi=400)\n",
    "    \n",
    "def plot_time_dependence_together(mu, monopole, lattice_size, smearing, space_sizes, T_max, conf_type):\n",
    "    data = []\n",
    "    for sm in smearing:\n",
    "        data.append(pd.read_csv(f\"../../result/potential/{monopole}/{conf_type}/{lattice_size}/potential_{sm[0]}_mu=0.{mu}.csv\", index_col=None))\n",
    "        data[-1] = data[-1][data[-1]['smearing_step'] == sm[1]]\n",
    "        data[-1]['smearing'] = f'{sm[0]}_APE_steps_{sm[1]}'\n",
    "        \n",
    "    df_data = pd.concat(data)\n",
    "\n",
    "#     smearing_steps = [22, 62, 102]\n",
    "    \n",
    "#     df_data = df_data[df_data['smearing_step'] == smearing_step]\n",
    "#     df_data = df_data[df_data['r/a'].isin(space_sizes)]\n",
    "#     df_data = df_data[df_data['r/a'] == space_sizes]\n",
    "    df_data = df_data[df_data['T'] <= T_max]\n",
    "    for r in space_sizes:\n",
    "        df1 = df_data[df_data['r/a'] == r]\n",
    "        fg = seaborn.FacetGrid(data=df1, hue='smearing',  height=3.5, aspect=1.61)\n",
    "        fg.map(plt.errorbar, 'T', 'aV(r)', 'err', marker=\"o\", fmt='', linestyle = '').add_legend()\n",
    "        fg.fig.suptitle(f'r/a = {r}')\n",
    "    \n",
    "        image_path = f'../../images/potential/qc2dstag/{lattice_size}/together/'\n",
    "        try:\n",
    "            os.makedirs(image_path)\n",
    "        except:\n",
    "            pass\n",
    "    \n",
    "        if monopole == \"/\":\n",
    "            monopole = 'qc2dstag'\n",
    "    \n",
    "        image_path = f'{image_path}/potential_{monopole}_mu=0p{mu}_r={r}_time_dependence'\n",
    "        fg.savefig(image_path, dpi=400)"
   ]
  },
  {
   "cell_type": "code",
   "execution_count": null,
   "id": "another-meaning",
   "metadata": {},
   "outputs": [],
   "source": [
    "smearing_step = 402\n",
    "T_max = 14\n",
    "space_sizes = [2, 3, 4, 5, 6, 7, 8, 10, 12, 14, 16]\n",
    "for r in space_sizes:\n",
    "    plot_time_dependence('00', '/', '32^4', 'HYP1_alpha=1_1_0.5_APE_alpha=0.5', smearing_step, r, T_max, 'qc2dstag')"
   ]
  },
  {
   "cell_type": "code",
   "execution_count": null,
   "id": "polish-credits",
   "metadata": {},
   "outputs": [],
   "source": [
    "smearing_step = 402\n",
    "T_max = 14\n",
    "space_sizes = [2, 3, 4, 5, 6, 7, 8]\n",
    "for r in space_sizes:\n",
    "    plot_time_dependence('00', '/', '32^4', 'HYP1_alpha=1_1_0.5_APE_alpha=0.5', smearing_step, r, T_max, 'SU2_dinam')"
   ]
  },
  {
   "cell_type": "code",
   "execution_count": null,
   "id": "objective-polls",
   "metadata": {},
   "outputs": [],
   "source": [
    "smearing_step = 72\n",
    "T_max = 14\n",
    "space_sizes = [2, 3, 4, 5, 6, 7, 8]\n",
    "for r in space_sizes:\n",
    "    plot_time_dependence('00', '/', '32^4', 'HYP1_alpha=1_1_0.5_APE_alpha=0.55', smearing_step, r, T_max, 'SU2_dinam')"
   ]
  },
  {
   "cell_type": "code",
   "execution_count": null,
   "id": "hindu-latex",
   "metadata": {},
   "outputs": [],
   "source": [
    "smearing_step = 35\n",
    "T_max = 14\n",
    "space_sizes = [2, 3, 4, 5, 6, 7, 8]\n",
    "for r in space_sizes:\n",
    "    plot_time_dependence('00', '/', '32^4', 'HYP1_alpha=1_1_0.5_APE_alpha=0.6', smearing_step, r, T_max, 'SU2_dinam')"
   ]
  },
  {
   "cell_type": "code",
   "execution_count": null,
   "id": "diverse-weapon",
   "metadata": {},
   "outputs": [],
   "source": [
    "smearing_step = 26\n",
    "T_max = 14\n",
    "space_sizes = [2, 3, 4, 5, 6, 7, 8]\n",
    "for r in space_sizes:\n",
    "    plot_time_dependence('00', '/', '32^4', 'HYP1_alpha=1_1_0.5_APE_alpha=0.65', smearing_step, r, T_max, 'SU2_dinam')"
   ]
  },
  {
   "cell_type": "code",
   "execution_count": null,
   "id": "posted-ranking",
   "metadata": {},
   "outputs": [],
   "source": [
    "smearing_step = 20\n",
    "T_max = 14\n",
    "space_sizes = [2, 3, 4, 5, 6, 7, 8]\n",
    "for r in space_sizes:\n",
    "    plot_time_dependence('00', '/', '32^4', 'HYP1_alpha=1_1_0.5_APE_alpha=0.7', smearing_step, r, T_max, 'SU2_dinam')"
   ]
  },
  {
   "cell_type": "code",
   "execution_count": null,
   "id": "informative-escape",
   "metadata": {},
   "outputs": [],
   "source": [
    "smearing_step = 81\n",
    "T_max = 8\n",
    "space_sizes = [2, 3, 4, 5, 6, 7, 8]\n",
    "for r in space_sizes:\n",
    "    plot_time_dependence('00', '/', '32^4', 'HYP0_alpha=1_1_0.5_APE_alpha=0.5', smearing_step, r, T_max, 'SU2_dinam')"
   ]
  },
  {
   "cell_type": "code",
   "execution_count": null,
   "id": "ecological-gasoline",
   "metadata": {},
   "outputs": [],
   "source": [
    "smearing_step = 21\n",
    "T_max = 10\n",
    "space_sizes = [2, 3, 4, 5, 6, 7, 8]\n",
    "for r in space_sizes:\n",
    "    plot_time_dependence('00', '/', '32^4', 'HYP0_alpha=1_1_0.5_APE_alpha=0.7', smearing_step, r, T_max, 'SU2_dinam')"
   ]
  },
  {
   "cell_type": "code",
   "execution_count": null,
   "id": "novel-carter",
   "metadata": {},
   "outputs": [],
   "source": [
    "space_sizes = [8]\n",
    "smearing_step = 52\n",
    "plot_time_dependence('05', '/', '24^4', 'HYP1_alpha=1_1_0.5_APE_alpha=0.75', smearing_step, space_sizes)\n"
   ]
  },
  {
   "cell_type": "code",
   "execution_count": null,
   "id": "numeric-hazard",
   "metadata": {},
   "outputs": [],
   "source": [
    "x = np.array([[1, 2, 3], [4, 5, 6]])\n",
    "print(x[0][0], x[0][1], x[1][0])\n",
    "print(x.shape[0], x.shape[1])\n",
    "print(x.shape)"
   ]
  },
  {
   "cell_type": "code",
   "execution_count": null,
   "id": "competitive-finder",
   "metadata": {},
   "outputs": [],
   "source": [
    "a = [('HYP1', 62), ('HYP2', 71)]\n",
    "print(a[0][1])"
   ]
  },
  {
   "cell_type": "code",
   "execution_count": null,
   "id": "attended-magazine",
   "metadata": {},
   "outputs": [],
   "source": [
    "smearing = [('HYP1_alpha=1_1_0.5_APE_alpha=0.5', 402), ('HYP1_alpha=1_1_0.5_APE_alpha=0.55', 72),('HYP1_alpha=1_1_0.5_APE_alpha=0.6', 35)]\n",
    "T_max = 14\n",
    "space_sizes = [2, 3, 4, 5, 6, 7, 8, 10, 12, 14, 16]\n",
    "plot_time_dependence_together('00', '/', '32^4', smearing, space_sizes, T_max, 'SU2_dinam')"
   ]
  },
  {
   "cell_type": "code",
   "execution_count": null,
   "id": "contemporary-memory",
   "metadata": {},
   "outputs": [],
   "source": [
    "smearing = [('HYP1_alpha=1_1_0.5_APE_alpha=0.5', 702), ('HYP1_alpha=1_1_0.5_APE_alpha=0.55', 72), ('HYP1_alpha=1_1_0.5_APE_alpha=0.6', 32)]\n",
    "T_max = 14\n",
    "space_sizes = [2, 3, 4, 5, 6, 7, 8, 10, 12, 14, 16]\n",
    "plot_time_dependence_together('00', '/', '40^4', smearing, space_sizes, T_max, 'qc2dstag')"
   ]
  },
  {
   "cell_type": "code",
   "execution_count": null,
   "id": "accurate-analysis",
   "metadata": {},
   "outputs": [],
   "source": [
    "smearing = [('HYP1_alpha=1_1_0.5_APE_alpha=0.5', 402), ('HYP1_alpha=1_1_0.5_APE_alpha=0.5', 802), ('HYP2_alpha=1_1_0.5_APE_alpha=0.5', 803), ('HYP3_alpha=1_1_0.5_APE_alpha=0.5', 804), ('HYP1_alpha=1_1_0.5_APE_alpha=0.55', 62)]\n",
    "T_max = 14\n",
    "space_sizes = [2, 3, 4, 5, 6, 7, 8, 10, 12, 14, 16]\n",
    "plot_time_dependence_together('05', '/', '40^4', smearing, space_sizes, T_max, 'qc2dstag')"
   ]
  },
  {
   "cell_type": "code",
   "execution_count": null,
   "id": "fatal-newspaper",
   "metadata": {},
   "outputs": [],
   "source": [
    "smearing = [('HYP2_alpha=1_1_0.5_APE_alpha=0.5', 803)]\n",
    "T_max = 14\n",
    "space_sizes = [2, 3, 4, 5, 6, 7, 8, 10, 12, 14, 16]\n",
    "plot_time_dependence_together('05', '/', '40^4', smearing, space_sizes, T_max, 'qc2dstag')"
   ]
  },
  {
   "cell_type": "code",
   "execution_count": null,
   "id": "promotional-accident",
   "metadata": {},
   "outputs": [],
   "source": [
    "smearing = [('HYP3_alpha=1_1_0.5_APE_alpha=0.5', 404)]\n",
    "T_max = 14\n",
    "space_sizes = [2, 3, 4, 5, 6, 7, 8, 10, 12, 14, 16]\n",
    "plot_time_dependence_together('05', '/', '40^4', smearing, space_sizes, T_max, 'qc2dstag')"
   ]
  },
  {
   "cell_type": "code",
   "execution_count": null,
   "id": "indie-trinidad",
   "metadata": {},
   "outputs": [],
   "source": [
    "smearing = [('HYP1_alpha=1_1_0.5_APE_alpha=0.5', 102), ('HYP1_alpha=1_1_0.5_APE_alpha=0.5', 402), ('HYP1_alpha=1_1_0.5_APE_alpha=0.5', 602), ('HYP1_alpha=1_1_0.5_APE_alpha=0.5', 802)]\n",
    "T_max = 14\n",
    "space_sizes = [2, 3, 4, 5, 6, 7, 8, 10, 12, 14, 16]\n",
    "plot_time_dependence_together('35', '/', '40^4', smearing, space_sizes, T_max, 'qc2dstag')"
   ]
  },
  {
   "cell_type": "code",
   "execution_count": null,
   "id": "complimentary-shoot",
   "metadata": {},
   "outputs": [],
   "source": [
    "smearing = [('HYP1_alpha=1_1_0.5_APE_alpha=0.5', 802), ('HYP1_alpha=1_1_0.5_APE_alpha=0.55', 72), ('HYP1_alpha=1_1_0.5_APE_alpha=0.6', 34), ('HYP1_alpha=1_1_0.5_APE_alpha=0.65', 26)]\n",
    "T_max = 14\n",
    "space_sizes = [2, 3, 4, 5, 6, 7, 8, 10, 12, 14, 16]\n",
    "plot_time_dependence_together('45', '/', '40^4', smearing, space_sizes, T_max, 'qc2dstag')"
   ]
  },
  {
   "cell_type": "code",
   "execution_count": null,
   "id": "valued-cheese",
   "metadata": {},
   "outputs": [],
   "source": [
    "smearing = [('HYP1_alpha=1_1_0.5_APE_alpha=0.5', 102), ('HYP1_alpha=1_1_0.5_APE_alpha=0.5', 402), ('HYP1_alpha=1_1_0.5_APE_alpha=0.5', 802), ('HYP1_alpha=1_1_0.5_APE_alpha=0.5', 802), ('HYP1_alpha=1_1_0.5_APE_alpha=0.55', 72)]\n",
    "T_max = 20\n",
    "space_sizes = [2, 3, 4, 5, 6, 7, 8, 10, 12, 14, 16, 18, 19, 20]\n",
    "plot_time_dependence_together('45', '/', '40^4', smearing, space_sizes, T_max, 'qc2dstag')"
   ]
  },
  {
   "cell_type": "code",
   "execution_count": null,
   "id": "joined-banking",
   "metadata": {},
   "outputs": [],
   "source": []
  }
 ],
 "metadata": {
  "kernelspec": {
   "display_name": "Python 3",
   "language": "python",
   "name": "python3"
  },
  "language_info": {
   "codemirror_mode": {
    "name": "ipython",
    "version": 3
   },
   "file_extension": ".py",
   "mimetype": "text/x-python",
   "name": "python",
   "nbconvert_exporter": "python",
   "pygments_lexer": "ipython3",
   "version": "3.8.5"
  }
 },
 "nbformat": 4,
 "nbformat_minor": 5
}
